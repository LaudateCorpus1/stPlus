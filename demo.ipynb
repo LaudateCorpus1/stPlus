{
 "cells": [
  {
   "cell_type": "markdown",
   "metadata": {},
   "source": [
    "# stPlus"
   ]
  },
  {
   "cell_type": "markdown",
   "metadata": {},
   "source": [
    "stPlus is a reference-based method for the enhancement of spatial transcriptomics. Leveraging the holistic information in reference scRNA-seq data but not limited to the genes shared with spatial data, stPlus performs non-linear embedding for cells in both datasets and effectively predicts unmeasured spatial gene expression."
   ]
  },
  {
   "cell_type": "markdown",
   "metadata": {},
   "source": [
    "The **required inputs** of stPlus including\n",
    "\n",
    "* **spatial_df**:       normalized and logarithmized original spatial data\n",
    "* **scrna_df**:         normalized and logarithmized reference scRNA-seq data\n",
    "* **genes_to_predict**: spatial genes to be predicted\n",
    "\n",
    "The **output** of stPlus is\n",
    "\n",
    "* **stPlus_res**:       predicted spatial transcriptomics data"
   ]
  },
  {
   "cell_type": "code",
   "execution_count": null,
   "metadata": {},
   "outputs": [],
   "source": []
  },
  {
   "cell_type": "markdown",
   "metadata": {},
   "source": [
    "We first import the package of stPlus. \n",
    "\n",
    "The frequently used packages such as pandas (pd), numpy (np) and torch will be automatically imported along with stPlus."
   ]
  },
  {
   "cell_type": "code",
   "execution_count": 1,
   "metadata": {
    "ExecuteTime": {
     "end_time": "2020-11-29T05:35:39.542004Z",
     "start_time": "2020-11-29T05:35:34.546634Z"
    }
   },
   "outputs": [],
   "source": [
    "from stPlus import *"
   ]
  },
  {
   "cell_type": "markdown",
   "metadata": {
    "ExecuteTime": {
     "end_time": "2020-11-29T05:22:32.435015Z",
     "start_time": "2020-11-29T05:22:32.429792Z"
    }
   },
   "source": [
    "We can check the fundamentals of stPlus via"
   ]
  },
  {
   "cell_type": "code",
   "execution_count": 2,
   "metadata": {
    "ExecuteTime": {
     "end_time": "2020-11-29T05:35:39.552178Z",
     "start_time": "2020-11-29T05:35:39.546032Z"
    }
   },
   "outputs": [
    {
     "name": "stdout",
     "output_type": "stream",
     "text": [
      "Help on function stPlus in module stPlus.model:\n",
      "\n",
      "stPlus(spatial_df, scrna_df, genes_to_predict, save_path_prefix='./stPlus', top_k=3000, t_min=5, data_quality=None, random_seed=None, verbose=True, converge_ratio=0.004, max_epoch_num=10000, batch_size=512, learning_rate=None, weight_decay=0.0002)\n",
      "    spatial_df:       [pandas dataframe] normalized and logarithmized original spatial data (cell by gene)\n",
      "    scrna_df:         [pandas dataframe] normalized and logarithmized reference scRNA-seq data (cell by gene)\n",
      "    genes_to_predict: [1D numpy array] spatial genes to be predicted\n",
      "    save_path_prefix: [str] prefix of path of trained t models with minimal loss\n",
      "    top_k:            [int] number of highly variable genes to use\n",
      "    t_min:            [int] number of epochs with minimal loss using to ensemble learning\n",
      "    data_quality:     [float] user-specified or 1 minus the sparsity of scRNA-seq data (default)\n",
      "    random_seed:      [int] random seed in torch\n",
      "    verbose:          [bool] display the running progress or not\n",
      "    converge_ratio:   [float] loss converge ratio\n",
      "    max_epoch_num:    [int] maximum number of epochs\n",
      "    batch_size:       [int] batch size for model training\n",
      "    learning_rate:    [float] learning rate for model training\n",
      "    weight_decay:     [float] weight decay for model training\n",
      "    stPlus_res:       [pandas dataframe] predicted spatial data (cell by gene)\n",
      "\n"
     ]
    }
   ],
   "source": [
    "help(stPlus)"
   ]
  },
  {
   "cell_type": "code",
   "execution_count": null,
   "metadata": {},
   "outputs": [],
   "source": []
  },
  {
   "cell_type": "markdown",
   "metadata": {},
   "source": [
    "# Getting Started stPlus Application"
   ]
  },
  {
   "cell_type": "markdown",
   "metadata": {},
   "source": [
    "Load the normalized and logarithmized spatial and scRNA-seq data, and the genes to predict\n",
    "\n",
    "The data can be accessed via: git clone git://github.com/xy-chen16/stPlus.git"
   ]
  },
  {
   "cell_type": "code",
   "execution_count": 6,
   "metadata": {
    "ExecuteTime": {
     "end_time": "2020-11-29T05:47:30.935119Z",
     "start_time": "2020-11-29T05:47:30.932285Z"
    }
   },
   "outputs": [],
   "source": [
    "spatial_df_file = './data/osmFISH_df.csv'\n",
    "scrna_df_file   = './data/Zeisel_df.csv'\n",
    "genes_file      = './data/genes_to_predict.txt'"
   ]
  },
  {
   "cell_type": "code",
   "execution_count": 7,
   "metadata": {
    "ExecuteTime": {
     "end_time": "2020-11-29T05:47:57.091961Z",
     "start_time": "2020-11-29T05:47:31.408602Z"
    }
   },
   "outputs": [
    {
     "name": "stdout",
     "output_type": "stream",
     "text": [
      "Loading data\n"
     ]
    }
   ],
   "source": [
    "print('Loading data')\n",
    "spatial_df = pd.read_csv(spatial_df_file)\n",
    "scrna_df   = pd.read_csv(scrna_df_file)\n",
    "genes_to_predict = pd.read_csv(genes_file, header=None).iloc[:,0].values"
   ]
  },
  {
   "cell_type": "code",
   "execution_count": 8,
   "metadata": {
    "ExecuteTime": {
     "end_time": "2020-11-29T05:48:19.341919Z",
     "start_time": "2020-11-29T05:48:19.237974Z"
    }
   },
   "outputs": [
    {
     "data": {
      "text/html": [
       "<div>\n",
       "<style scoped>\n",
       "    .dataframe tbody tr th:only-of-type {\n",
       "        vertical-align: middle;\n",
       "    }\n",
       "\n",
       "    .dataframe tbody tr th {\n",
       "        vertical-align: top;\n",
       "    }\n",
       "\n",
       "    .dataframe thead th {\n",
       "        text-align: right;\n",
       "    }\n",
       "</style>\n",
       "<table border=\"1\" class=\"dataframe\">\n",
       "  <thead>\n",
       "    <tr style=\"text-align: right;\">\n",
       "      <th></th>\n",
       "      <th>Gad2</th>\n",
       "      <th>Slc32a1</th>\n",
       "      <th>Crhbp</th>\n",
       "      <th>Cnr1</th>\n",
       "      <th>Vip</th>\n",
       "      <th>Cpne5</th>\n",
       "      <th>Pthlh</th>\n",
       "      <th>Crh</th>\n",
       "      <th>Tbr1</th>\n",
       "      <th>Lamp5</th>\n",
       "      <th>...</th>\n",
       "      <th>Ctps</th>\n",
       "      <th>Anln</th>\n",
       "      <th>Mrc1</th>\n",
       "      <th>Hexb</th>\n",
       "      <th>Ttr</th>\n",
       "      <th>Foxj1</th>\n",
       "      <th>Vtn</th>\n",
       "      <th>Flt1</th>\n",
       "      <th>Apln</th>\n",
       "      <th>Acta2</th>\n",
       "    </tr>\n",
       "  </thead>\n",
       "  <tbody>\n",
       "    <tr>\n",
       "      <th>0</th>\n",
       "      <td>2.777385</td>\n",
       "      <td>2.926465</td>\n",
       "      <td>0.000000</td>\n",
       "      <td>1.390133</td>\n",
       "      <td>0.829559</td>\n",
       "      <td>2.119032</td>\n",
       "      <td>0.000000</td>\n",
       "      <td>0.621403</td>\n",
       "      <td>2.536136</td>\n",
       "      <td>1.492039</td>\n",
       "      <td>...</td>\n",
       "      <td>2.009762</td>\n",
       "      <td>1.276651</td>\n",
       "      <td>1.001762</td>\n",
       "      <td>2.065889</td>\n",
       "      <td>1.001762</td>\n",
       "      <td>0.829559</td>\n",
       "      <td>0.621403</td>\n",
       "      <td>0.000000</td>\n",
       "      <td>1.001762</td>\n",
       "      <td>0.829559</td>\n",
       "    </tr>\n",
       "    <tr>\n",
       "      <th>1</th>\n",
       "      <td>3.699013</td>\n",
       "      <td>3.059924</td>\n",
       "      <td>1.123004</td>\n",
       "      <td>0.346999</td>\n",
       "      <td>0.604114</td>\n",
       "      <td>0.346999</td>\n",
       "      <td>0.346999</td>\n",
       "      <td>0.808458</td>\n",
       "      <td>1.462912</td>\n",
       "      <td>0.000000</td>\n",
       "      <td>...</td>\n",
       "      <td>1.123004</td>\n",
       "      <td>0.808458</td>\n",
       "      <td>0.346999</td>\n",
       "      <td>0.808458</td>\n",
       "      <td>0.346999</td>\n",
       "      <td>0.346999</td>\n",
       "      <td>0.604114</td>\n",
       "      <td>0.000000</td>\n",
       "      <td>0.978048</td>\n",
       "      <td>0.346999</td>\n",
       "    </tr>\n",
       "    <tr>\n",
       "      <th>2</th>\n",
       "      <td>3.663039</td>\n",
       "      <td>3.480582</td>\n",
       "      <td>2.220487</td>\n",
       "      <td>0.521361</td>\n",
       "      <td>0.862314</td>\n",
       "      <td>0.000000</td>\n",
       "      <td>1.222337</td>\n",
       "      <td>0.521361</td>\n",
       "      <td>2.143296</td>\n",
       "      <td>0.000000</td>\n",
       "      <td>...</td>\n",
       "      <td>0.997242</td>\n",
       "      <td>0.862314</td>\n",
       "      <td>0.706299</td>\n",
       "      <td>2.256957</td>\n",
       "      <td>0.294279</td>\n",
       "      <td>0.862314</td>\n",
       "      <td>0.997242</td>\n",
       "      <td>0.000000</td>\n",
       "      <td>0.521361</td>\n",
       "      <td>0.706299</td>\n",
       "    </tr>\n",
       "    <tr>\n",
       "      <th>3</th>\n",
       "      <td>3.428742</td>\n",
       "      <td>2.682501</td>\n",
       "      <td>0.831733</td>\n",
       "      <td>1.279431</td>\n",
       "      <td>0.499956</td>\n",
       "      <td>0.000000</td>\n",
       "      <td>1.184873</td>\n",
       "      <td>0.000000</td>\n",
       "      <td>3.079924</td>\n",
       "      <td>0.963793</td>\n",
       "      <td>...</td>\n",
       "      <td>1.279431</td>\n",
       "      <td>0.000000</td>\n",
       "      <td>0.963793</td>\n",
       "      <td>1.587579</td>\n",
       "      <td>0.963793</td>\n",
       "      <td>0.280902</td>\n",
       "      <td>0.280902</td>\n",
       "      <td>0.000000</td>\n",
       "      <td>0.280902</td>\n",
       "      <td>0.963793</td>\n",
       "    </tr>\n",
       "    <tr>\n",
       "      <th>4</th>\n",
       "      <td>2.433613</td>\n",
       "      <td>3.250374</td>\n",
       "      <td>0.000000</td>\n",
       "      <td>2.282382</td>\n",
       "      <td>0.955511</td>\n",
       "      <td>0.000000</td>\n",
       "      <td>0.000000</td>\n",
       "      <td>0.000000</td>\n",
       "      <td>1.223775</td>\n",
       "      <td>4.506454</td>\n",
       "      <td>...</td>\n",
       "      <td>1.435085</td>\n",
       "      <td>0.587787</td>\n",
       "      <td>0.955511</td>\n",
       "      <td>1.223775</td>\n",
       "      <td>0.587787</td>\n",
       "      <td>0.587787</td>\n",
       "      <td>0.587787</td>\n",
       "      <td>0.587787</td>\n",
       "      <td>1.223775</td>\n",
       "      <td>0.000000</td>\n",
       "    </tr>\n",
       "  </tbody>\n",
       "</table>\n",
       "<p>5 rows × 33 columns</p>\n",
       "</div>"
      ],
      "text/plain": [
       "       Gad2   Slc32a1     Crhbp      Cnr1       Vip     Cpne5     Pthlh  \\\n",
       "0  2.777385  2.926465  0.000000  1.390133  0.829559  2.119032  0.000000   \n",
       "1  3.699013  3.059924  1.123004  0.346999  0.604114  0.346999  0.346999   \n",
       "2  3.663039  3.480582  2.220487  0.521361  0.862314  0.000000  1.222337   \n",
       "3  3.428742  2.682501  0.831733  1.279431  0.499956  0.000000  1.184873   \n",
       "4  2.433613  3.250374  0.000000  2.282382  0.955511  0.000000  0.000000   \n",
       "\n",
       "        Crh      Tbr1     Lamp5  ...      Ctps      Anln      Mrc1      Hexb  \\\n",
       "0  0.621403  2.536136  1.492039  ...  2.009762  1.276651  1.001762  2.065889   \n",
       "1  0.808458  1.462912  0.000000  ...  1.123004  0.808458  0.346999  0.808458   \n",
       "2  0.521361  2.143296  0.000000  ...  0.997242  0.862314  0.706299  2.256957   \n",
       "3  0.000000  3.079924  0.963793  ...  1.279431  0.000000  0.963793  1.587579   \n",
       "4  0.000000  1.223775  4.506454  ...  1.435085  0.587787  0.955511  1.223775   \n",
       "\n",
       "        Ttr     Foxj1       Vtn      Flt1      Apln     Acta2  \n",
       "0  1.001762  0.829559  0.621403  0.000000  1.001762  0.829559  \n",
       "1  0.346999  0.346999  0.604114  0.000000  0.978048  0.346999  \n",
       "2  0.294279  0.862314  0.997242  0.000000  0.521361  0.706299  \n",
       "3  0.963793  0.280902  0.280902  0.000000  0.280902  0.963793  \n",
       "4  0.587787  0.587787  0.587787  0.587787  1.223775  0.000000  \n",
       "\n",
       "[5 rows x 33 columns]"
      ]
     },
     "execution_count": 8,
     "metadata": {},
     "output_type": "execute_result"
    }
   ],
   "source": [
    "spatial_df.head()"
   ]
  },
  {
   "cell_type": "code",
   "execution_count": 9,
   "metadata": {
    "ExecuteTime": {
     "end_time": "2020-11-29T05:48:30.391669Z",
     "start_time": "2020-11-29T05:48:30.323156Z"
    }
   },
   "outputs": [
    {
     "data": {
      "text/html": [
       "<div>\n",
       "<style scoped>\n",
       "    .dataframe tbody tr th:only-of-type {\n",
       "        vertical-align: middle;\n",
       "    }\n",
       "\n",
       "    .dataframe tbody tr th {\n",
       "        vertical-align: top;\n",
       "    }\n",
       "\n",
       "    .dataframe thead th {\n",
       "        text-align: right;\n",
       "    }\n",
       "</style>\n",
       "<table border=\"1\" class=\"dataframe\">\n",
       "  <thead>\n",
       "    <tr style=\"text-align: right;\">\n",
       "      <th></th>\n",
       "      <th>Tspan12</th>\n",
       "      <th>Tshz1</th>\n",
       "      <th>Fnbp1l</th>\n",
       "      <th>Adamts15</th>\n",
       "      <th>Cldn12</th>\n",
       "      <th>Rxfp1</th>\n",
       "      <th>2310042E22Rik</th>\n",
       "      <th>Sema3c</th>\n",
       "      <th>Jam2</th>\n",
       "      <th>Apbb1ip</th>\n",
       "      <th>...</th>\n",
       "      <th>Rab9</th>\n",
       "      <th>Tceanc</th>\n",
       "      <th>Msl3</th>\n",
       "      <th>Arhgap6</th>\n",
       "      <th>Mid1</th>\n",
       "      <th>Vamp7</th>\n",
       "      <th>Tmlhe</th>\n",
       "      <th>Zf12</th>\n",
       "      <th>Kdm5d</th>\n",
       "      <th>Uty</th>\n",
       "    </tr>\n",
       "  </thead>\n",
       "  <tbody>\n",
       "    <tr>\n",
       "      <th>0</th>\n",
       "      <td>0.000000</td>\n",
       "      <td>4.942366</td>\n",
       "      <td>4.942366</td>\n",
       "      <td>0.0</td>\n",
       "      <td>3.857929</td>\n",
       "      <td>0.0</td>\n",
       "      <td>0.000000</td>\n",
       "      <td>6.236445</td>\n",
       "      <td>3.857929</td>\n",
       "      <td>0.0</td>\n",
       "      <td>...</td>\n",
       "      <td>5.785577</td>\n",
       "      <td>0.0</td>\n",
       "      <td>0.000000</td>\n",
       "      <td>0.0</td>\n",
       "      <td>0.0</td>\n",
       "      <td>5.450333</td>\n",
       "      <td>0.0</td>\n",
       "      <td>0.0</td>\n",
       "      <td>0.0</td>\n",
       "      <td>0.000000</td>\n",
       "    </tr>\n",
       "    <tr>\n",
       "      <th>1</th>\n",
       "      <td>0.000000</td>\n",
       "      <td>3.850649</td>\n",
       "      <td>3.850649</td>\n",
       "      <td>0.0</td>\n",
       "      <td>3.850649</td>\n",
       "      <td>0.0</td>\n",
       "      <td>0.000000</td>\n",
       "      <td>0.000000</td>\n",
       "      <td>0.000000</td>\n",
       "      <td>0.0</td>\n",
       "      <td>...</td>\n",
       "      <td>3.850649</td>\n",
       "      <td>0.0</td>\n",
       "      <td>0.000000</td>\n",
       "      <td>0.0</td>\n",
       "      <td>0.0</td>\n",
       "      <td>0.000000</td>\n",
       "      <td>0.0</td>\n",
       "      <td>0.0</td>\n",
       "      <td>0.0</td>\n",
       "      <td>0.000000</td>\n",
       "    </tr>\n",
       "    <tr>\n",
       "      <th>2</th>\n",
       "      <td>0.000000</td>\n",
       "      <td>0.000000</td>\n",
       "      <td>5.251013</td>\n",
       "      <td>0.0</td>\n",
       "      <td>3.485126</td>\n",
       "      <td>0.0</td>\n",
       "      <td>4.162830</td>\n",
       "      <td>6.674137</td>\n",
       "      <td>3.485126</td>\n",
       "      <td>0.0</td>\n",
       "      <td>...</td>\n",
       "      <td>3.485126</td>\n",
       "      <td>0.0</td>\n",
       "      <td>4.162830</td>\n",
       "      <td>0.0</td>\n",
       "      <td>0.0</td>\n",
       "      <td>4.563094</td>\n",
       "      <td>0.0</td>\n",
       "      <td>0.0</td>\n",
       "      <td>0.0</td>\n",
       "      <td>5.404414</td>\n",
       "    </tr>\n",
       "    <tr>\n",
       "      <th>3</th>\n",
       "      <td>4.523832</td>\n",
       "      <td>4.123776</td>\n",
       "      <td>4.808798</td>\n",
       "      <td>0.0</td>\n",
       "      <td>0.000000</td>\n",
       "      <td>0.0</td>\n",
       "      <td>4.523832</td>\n",
       "      <td>3.446682</td>\n",
       "      <td>0.000000</td>\n",
       "      <td>0.0</td>\n",
       "      <td>...</td>\n",
       "      <td>4.523832</td>\n",
       "      <td>0.0</td>\n",
       "      <td>3.446682</td>\n",
       "      <td>0.0</td>\n",
       "      <td>0.0</td>\n",
       "      <td>0.000000</td>\n",
       "      <td>0.0</td>\n",
       "      <td>0.0</td>\n",
       "      <td>0.0</td>\n",
       "      <td>0.000000</td>\n",
       "    </tr>\n",
       "    <tr>\n",
       "      <th>4</th>\n",
       "      <td>0.000000</td>\n",
       "      <td>4.542944</td>\n",
       "      <td>3.860383</td>\n",
       "      <td>0.0</td>\n",
       "      <td>0.000000</td>\n",
       "      <td>0.0</td>\n",
       "      <td>0.000000</td>\n",
       "      <td>6.143832</td>\n",
       "      <td>0.000000</td>\n",
       "      <td>0.0</td>\n",
       "      <td>...</td>\n",
       "      <td>0.000000</td>\n",
       "      <td>0.0</td>\n",
       "      <td>5.230756</td>\n",
       "      <td>0.0</td>\n",
       "      <td>0.0</td>\n",
       "      <td>4.944856</td>\n",
       "      <td>0.0</td>\n",
       "      <td>0.0</td>\n",
       "      <td>0.0</td>\n",
       "      <td>0.000000</td>\n",
       "    </tr>\n",
       "  </tbody>\n",
       "</table>\n",
       "<p>5 rows × 15075 columns</p>\n",
       "</div>"
      ],
      "text/plain": [
       "    Tspan12     Tshz1    Fnbp1l  Adamts15    Cldn12  Rxfp1  2310042E22Rik  \\\n",
       "0  0.000000  4.942366  4.942366       0.0  3.857929    0.0       0.000000   \n",
       "1  0.000000  3.850649  3.850649       0.0  3.850649    0.0       0.000000   \n",
       "2  0.000000  0.000000  5.251013       0.0  3.485126    0.0       4.162830   \n",
       "3  4.523832  4.123776  4.808798       0.0  0.000000    0.0       4.523832   \n",
       "4  0.000000  4.542944  3.860383       0.0  0.000000    0.0       0.000000   \n",
       "\n",
       "     Sema3c      Jam2  Apbb1ip  ...      Rab9  Tceanc      Msl3  Arhgap6  \\\n",
       "0  6.236445  3.857929      0.0  ...  5.785577     0.0  0.000000      0.0   \n",
       "1  0.000000  0.000000      0.0  ...  3.850649     0.0  0.000000      0.0   \n",
       "2  6.674137  3.485126      0.0  ...  3.485126     0.0  4.162830      0.0   \n",
       "3  3.446682  0.000000      0.0  ...  4.523832     0.0  3.446682      0.0   \n",
       "4  6.143832  0.000000      0.0  ...  0.000000     0.0  5.230756      0.0   \n",
       "\n",
       "   Mid1     Vamp7  Tmlhe  Zf12  Kdm5d       Uty  \n",
       "0   0.0  5.450333    0.0   0.0    0.0  0.000000  \n",
       "1   0.0  0.000000    0.0   0.0    0.0  0.000000  \n",
       "2   0.0  4.563094    0.0   0.0    0.0  5.404414  \n",
       "3   0.0  0.000000    0.0   0.0    0.0  0.000000  \n",
       "4   0.0  4.944856    0.0   0.0    0.0  0.000000  \n",
       "\n",
       "[5 rows x 15075 columns]"
      ]
     },
     "execution_count": 9,
     "metadata": {},
     "output_type": "execute_result"
    }
   ],
   "source": [
    "scrna_df.head()"
   ]
  },
  {
   "cell_type": "code",
   "execution_count": 10,
   "metadata": {
    "ExecuteTime": {
     "end_time": "2020-11-29T05:48:34.737756Z",
     "start_time": "2020-11-29T05:48:34.734116Z"
    }
   },
   "outputs": [
    {
     "data": {
      "text/plain": [
       "['Tesc', 'Pvrl3', 'Grm2']"
      ]
     },
     "execution_count": 10,
     "metadata": {},
     "output_type": "execute_result"
    }
   ],
   "source": [
    "genes_to_predict"
   ]
  },
  {
   "cell_type": "markdown",
   "metadata": {},
   "source": [
    "Run stPlus"
   ]
  },
  {
   "cell_type": "code",
   "execution_count": null,
   "metadata": {},
   "outputs": [],
   "source": [
    "save_path_prefix = './model/stPlus-demo'\n",
    "stPlus_res = stPlus(spatial_df, scrna_df, genes_to_predict, save_path_prefix, random_seed=10)"
   ]
  },
  {
   "cell_type": "markdown",
   "metadata": {},
   "source": [
    "Obtain the following predicted spatial transcriptomics data"
   ]
  },
  {
   "cell_type": "code",
   "execution_count": 9,
   "metadata": {
    "ExecuteTime": {
     "end_time": "2020-11-29T05:01:15.736304Z",
     "start_time": "2020-11-29T05:01:15.694210Z"
    }
   },
   "outputs": [
    {
     "data": {
      "text/html": [
       "<div>\n",
       "<style scoped>\n",
       "    .dataframe tbody tr th:only-of-type {\n",
       "        vertical-align: middle;\n",
       "    }\n",
       "\n",
       "    .dataframe tbody tr th {\n",
       "        vertical-align: top;\n",
       "    }\n",
       "\n",
       "    .dataframe thead th {\n",
       "        text-align: right;\n",
       "    }\n",
       "</style>\n",
       "<table border=\"1\" class=\"dataframe\">\n",
       "  <thead>\n",
       "    <tr style=\"text-align: right;\">\n",
       "      <th></th>\n",
       "      <th>Tesc</th>\n",
       "      <th>Pvrl3</th>\n",
       "      <th>Grm2</th>\n",
       "    </tr>\n",
       "  </thead>\n",
       "  <tbody>\n",
       "    <tr>\n",
       "      <th>0</th>\n",
       "      <td>1.947522</td>\n",
       "      <td>1.568999</td>\n",
       "      <td>0.918464</td>\n",
       "    </tr>\n",
       "    <tr>\n",
       "      <th>1</th>\n",
       "      <td>0.832874</td>\n",
       "      <td>1.935234</td>\n",
       "      <td>0.472614</td>\n",
       "    </tr>\n",
       "    <tr>\n",
       "      <th>2</th>\n",
       "      <td>0.790593</td>\n",
       "      <td>2.180426</td>\n",
       "      <td>0.344876</td>\n",
       "    </tr>\n",
       "    <tr>\n",
       "      <th>3</th>\n",
       "      <td>0.962560</td>\n",
       "      <td>1.850475</td>\n",
       "      <td>0.859580</td>\n",
       "    </tr>\n",
       "    <tr>\n",
       "      <th>4</th>\n",
       "      <td>0.091255</td>\n",
       "      <td>2.221686</td>\n",
       "      <td>0.089853</td>\n",
       "    </tr>\n",
       "  </tbody>\n",
       "</table>\n",
       "</div>"
      ],
      "text/plain": [
       "       Tesc     Pvrl3      Grm2\n",
       "0  1.947522  1.568999  0.918464\n",
       "1  0.832874  1.935234  0.472614\n",
       "2  0.790593  2.180426  0.344876\n",
       "3  0.962560  1.850475  0.859580\n",
       "4  0.091255  2.221686  0.089853"
      ]
     },
     "execution_count": 9,
     "metadata": {},
     "output_type": "execute_result"
    }
   ],
   "source": [
    "stPlus_res.head()"
   ]
  },
  {
   "cell_type": "code",
   "execution_count": null,
   "metadata": {},
   "outputs": [],
   "source": [
    "# the results should be\n",
    "#       Tesc\tPvrl3   \tGrm2\n",
    "# 0\t1.668627\t2.048264\t0.627106\n",
    "# 1\t0.720087\t2.617475\t0.284386\n",
    "# 2\t0.932298\t2.547904\t0.466870\n",
    "# 3\t0.990825\t1.857638\t0.963752\n",
    "# 4\t0.091311\t2.091799\t0.089835"
   ]
  },
  {
   "cell_type": "markdown",
   "metadata": {},
   "source": [
    "# Reproduction of 5-fold cross validation"
   ]
  },
  {
   "cell_type": "code",
   "execution_count": 3,
   "metadata": {
    "ExecuteTime": {
     "end_time": "2020-11-29T05:36:10.737011Z",
     "start_time": "2020-11-29T05:35:44.443939Z"
    }
   },
   "outputs": [
    {
     "name": "stdout",
     "output_type": "stream",
     "text": [
      "(3405, 33) (1691, 15075)\n",
      "(33,)\n"
     ]
    }
   ],
   "source": [
    "spatial_df_file = './data/osmFISH_df.csv'\n",
    "scrna_df_file   = './data/Zeisel_df.csv'\n",
    "raw_spatial_df  = pd.read_csv(spatial_df_file)\n",
    "raw_scrna_df    = pd.read_csv(scrna_df_file)\n",
    "print(raw_spatial_df.shape, raw_scrna_df.shape) # cell by gene\n",
    "raw_shared_gene = np.intersect1d(raw_spatial_df.columns, raw_scrna_df.columns)\n",
    "print(raw_shared_gene.shape)"
   ]
  },
  {
   "cell_type": "code",
   "execution_count": 4,
   "metadata": {
    "ExecuteTime": {
     "end_time": "2020-11-29T05:44:58.088433Z",
     "start_time": "2020-11-29T05:36:10.741802Z"
    },
    "scrolled": true
   },
   "outputs": [
    {
     "name": "stdout",
     "output_type": "stream",
     "text": [
      "\n",
      "===== Fold 1 =====\n",
      "Number of train genes: 26, Number of test genes: 7\n",
      "Models will be saved in: /home/chenshengquan/data/SpaGE/model/stPlus-fold1-5min*.pt\n",
      "\n",
      "Spatial transcriptomics data: 3405 cells * 26 genes\n",
      "Reference scRNA-seq data:     1691 cells * 15075 genes\n",
      "7 genes to be predicted\n",
      "\n",
      "Start initialization\n",
      "Start embedding\n",
      "\t[1] recon_loss: 10993.100, pred_loss: 69690.604, total_loss: 80683.704\n",
      "\t[2] recon_loss: 6743.004, pred_loss: 43190.807, total_loss: 49933.811\n",
      "\t[3] recon_loss: 5153.566, pred_loss: 38914.559, total_loss: 44068.125\n",
      "\t[4] recon_loss: 4075.303, pred_loss: 36493.186, total_loss: 40568.489\n",
      "\t[5] recon_loss: 3156.481, pred_loss: 35117.788, total_loss: 38274.270\n",
      "\t[6] recon_loss: 2388.118, pred_loss: 34161.463, total_loss: 36549.580\n",
      "\t[7] recon_loss: 1819.737, pred_loss: 33498.450, total_loss: 35318.187\n",
      "\t[8] recon_loss: 1403.374, pred_loss: 33091.804, total_loss: 34495.179\n",
      "\t[9] recon_loss: 1141.133, pred_loss: 32747.483, total_loss: 33888.615\n",
      "\t[10] recon_loss: 985.588, pred_loss: 32460.409, total_loss: 33445.997\n",
      "\t[11] recon_loss: 909.327, pred_loss: 32193.456, total_loss: 33102.782\n",
      "\t[12] recon_loss: 889.299, pred_loss: 31960.691, total_loss: 32849.990\n",
      "\t[13] recon_loss: 869.561, pred_loss: 31756.867, total_loss: 32626.428\n",
      "\t[14] recon_loss: 851.146, pred_loss: 31567.708, total_loss: 32418.855\n",
      "\t[15] recon_loss: 844.052, pred_loss: 31381.842, total_loss: 32225.894\n",
      "\t[16] recon_loss: 840.440, pred_loss: 31213.857, total_loss: 32054.297\n",
      "\t[17] recon_loss: 832.316, pred_loss: 31073.541, total_loss: 31905.857\n",
      "\t[18] recon_loss: 827.487, pred_loss: 30930.090, total_loss: 31757.577\n",
      "\t[19] recon_loss: 856.450, pred_loss: 30730.993, total_loss: 31587.443\n",
      "\t[20] recon_loss: 844.203, pred_loss: 30509.970, total_loss: 31354.173\n",
      "\t[21] recon_loss: 828.379, pred_loss: 30408.681, total_loss: 31237.059\n",
      "Start prediction\n",
      "\tUsing model 1 to predict\n",
      "\tUsing model 2 to predict\n",
      "\tUsing model 3 to predict\n",
      "\tUsing model 4 to predict\n",
      "\tUsing model 5 to predict\n",
      "\n",
      "===== Fold 2 =====\n",
      "Number of train genes: 26, Number of test genes: 7\n",
      "Models will be saved in: /home/chenshengquan/data/SpaGE/model/stPlus-fold2-5min*.pt\n",
      "\n",
      "Spatial transcriptomics data: 3405 cells * 26 genes\n",
      "Reference scRNA-seq data:     1691 cells * 15075 genes\n",
      "7 genes to be predicted\n",
      "\n",
      "Start initialization\n",
      "Start embedding\n",
      "\t[1] recon_loss: 12816.492, pred_loss: 68521.950, total_loss: 81338.442\n",
      "\t[2] recon_loss: 7577.399, pred_loss: 42486.109, total_loss: 50063.509\n",
      "\t[3] recon_loss: 5916.191, pred_loss: 38000.186, total_loss: 43916.377\n",
      "\t[4] recon_loss: 4738.602, pred_loss: 35880.673, total_loss: 40619.276\n",
      "\t[5] recon_loss: 3538.375, pred_loss: 34669.331, total_loss: 38207.706\n",
      "\t[6] recon_loss: 2492.156, pred_loss: 33905.505, total_loss: 36397.661\n",
      "\t[7] recon_loss: 1848.410, pred_loss: 33466.057, total_loss: 35314.467\n",
      "\t[8] recon_loss: 1414.185, pred_loss: 33135.668, total_loss: 34549.853\n",
      "\t[9] recon_loss: 1145.821, pred_loss: 32833.657, total_loss: 33979.478\n",
      "\t[10] recon_loss: 988.726, pred_loss: 32654.514, total_loss: 33643.240\n",
      "\t[11] recon_loss: 750.768, pred_loss: 32474.765, total_loss: 33225.533\n",
      "\t[12] recon_loss: 610.629, pred_loss: 32243.544, total_loss: 32854.173\n",
      "\t[13] recon_loss: 534.518, pred_loss: 32091.483, total_loss: 32626.001\n",
      "\t[14] recon_loss: 510.925, pred_loss: 31919.041, total_loss: 32429.965\n",
      "\t[15] recon_loss: 481.122, pred_loss: 31776.722, total_loss: 32257.844\n",
      "\t[16] recon_loss: 469.921, pred_loss: 31643.393, total_loss: 32113.315\n",
      "\t[17] recon_loss: 461.266, pred_loss: 31483.568, total_loss: 31944.834\n",
      "\t[18] recon_loss: 461.275, pred_loss: 31402.935, total_loss: 31864.210\n",
      "Start prediction\n",
      "\tUsing model 1 to predict\n",
      "\tUsing model 2 to predict\n",
      "\tUsing model 3 to predict\n",
      "\tUsing model 4 to predict\n",
      "\tUsing model 5 to predict\n",
      "\n",
      "===== Fold 3 =====\n",
      "Number of train genes: 26, Number of test genes: 7\n",
      "Models will be saved in: /home/chenshengquan/data/SpaGE/model/stPlus-fold3-5min*.pt\n",
      "\n",
      "Spatial transcriptomics data: 3405 cells * 26 genes\n",
      "Reference scRNA-seq data:     1691 cells * 15075 genes\n",
      "7 genes to be predicted\n",
      "\n",
      "Start initialization\n",
      "Start embedding\n",
      "\t[1] recon_loss: 13663.244, pred_loss: 68077.861, total_loss: 81741.105\n",
      "\t[2] recon_loss: 9490.302, pred_loss: 42601.578, total_loss: 52091.879\n",
      "\t[3] recon_loss: 7726.642, pred_loss: 38444.902, total_loss: 46171.544\n",
      "\t[4] recon_loss: 6341.745, pred_loss: 36154.912, total_loss: 42496.657\n",
      "\t[5] recon_loss: 5455.651, pred_loss: 34848.523, total_loss: 40304.174\n",
      "\t[6] recon_loss: 4756.490, pred_loss: 34007.891, total_loss: 38764.381\n",
      "\t[7] recon_loss: 4278.575, pred_loss: 33513.553, total_loss: 37792.128\n",
      "\t[8] recon_loss: 3959.046, pred_loss: 33146.859, total_loss: 37105.904\n",
      "\t[9] recon_loss: 3774.193, pred_loss: 32798.456, total_loss: 36572.649\n",
      "\t[10] recon_loss: 3672.682, pred_loss: 32482.218, total_loss: 36154.900\n",
      "\t[11] recon_loss: 3616.848, pred_loss: 32234.894, total_loss: 35851.742\n",
      "\t[12] recon_loss: 3585.241, pred_loss: 32027.753, total_loss: 35612.994\n",
      "\t[13] recon_loss: 3576.899, pred_loss: 31871.646, total_loss: 35448.545\n",
      "\t[14] recon_loss: 3603.007, pred_loss: 31716.693, total_loss: 35319.700\n",
      "Start prediction\n",
      "\tUsing model 1 to predict\n",
      "\tUsing model 2 to predict\n",
      "\tUsing model 3 to predict\n",
      "\tUsing model 4 to predict\n",
      "\tUsing model 5 to predict\n",
      "\n",
      "===== Fold 4 =====\n",
      "Number of train genes: 27, Number of test genes: 6\n",
      "Models will be saved in: /home/chenshengquan/data/SpaGE/model/stPlus-fold4-5min*.pt\n",
      "\n",
      "Spatial transcriptomics data: 3405 cells * 27 genes\n",
      "Reference scRNA-seq data:     1691 cells * 15075 genes\n",
      "6 genes to be predicted\n",
      "\n",
      "Start initialization\n",
      "Start embedding\n",
      "\t[1] recon_loss: 15004.800, pred_loss: 73444.648, total_loss: 88449.449\n",
      "\t[2] recon_loss: 9245.774, pred_loss: 46197.341, total_loss: 55443.114\n",
      "\t[3] recon_loss: 7181.011, pred_loss: 39854.748, total_loss: 47035.759\n",
      "\t[4] recon_loss: 5789.900, pred_loss: 37113.030, total_loss: 42902.930\n",
      "\t[5] recon_loss: 4933.923, pred_loss: 35682.943, total_loss: 40616.867\n",
      "\t[6] recon_loss: 4251.814, pred_loss: 34923.227, total_loss: 39175.041\n",
      "\t[7] recon_loss: 3771.487, pred_loss: 34399.935, total_loss: 38171.422\n",
      "\t[8] recon_loss: 3446.372, pred_loss: 34090.650, total_loss: 37537.021\n",
      "\t[9] recon_loss: 3266.399, pred_loss: 33835.395, total_loss: 37101.795\n",
      "\t[10] recon_loss: 3171.182, pred_loss: 33523.005, total_loss: 36694.186\n",
      "\t[11] recon_loss: 3136.272, pred_loss: 33370.188, total_loss: 36506.461\n",
      "\t[12] recon_loss: 3097.034, pred_loss: 33147.828, total_loss: 36244.863\n",
      "\t[13] recon_loss: 3074.847, pred_loss: 32960.981, total_loss: 36035.828\n",
      "\t[14] recon_loss: 3069.107, pred_loss: 32756.821, total_loss: 35825.928\n",
      "\t[15] recon_loss: 3060.668, pred_loss: 32580.205, total_loss: 35640.872\n",
      "\t[16] recon_loss: 3058.054, pred_loss: 32434.224, total_loss: 35492.278\n",
      "\t[17] recon_loss: 3050.711, pred_loss: 32254.484, total_loss: 35305.195\n",
      "\t[18] recon_loss: 3055.234, pred_loss: 32110.136, total_loss: 35165.370\n",
      "Start prediction\n",
      "\tUsing model 1 to predict\n",
      "\tUsing model 2 to predict\n",
      "\tUsing model 3 to predict\n",
      "\tUsing model 4 to predict\n",
      "\tUsing model 5 to predict\n",
      "\n",
      "===== Fold 5 =====\n",
      "Number of train genes: 27, Number of test genes: 6\n",
      "Models will be saved in: /home/chenshengquan/data/SpaGE/model/stPlus-fold5-5min*.pt\n",
      "\n",
      "Spatial transcriptomics data: 3405 cells * 27 genes\n",
      "Reference scRNA-seq data:     1691 cells * 15075 genes\n",
      "6 genes to be predicted\n",
      "\n",
      "Start initialization\n",
      "Start embedding\n",
      "\t[1] recon_loss: 13132.737, pred_loss: 71396.655, total_loss: 84529.393\n",
      "\t[2] recon_loss: 7591.408, pred_loss: 42965.310, total_loss: 50556.718\n",
      "\t[3] recon_loss: 5667.408, pred_loss: 38484.493, total_loss: 44151.901\n",
      "\t[4] recon_loss: 4478.657, pred_loss: 36458.349, total_loss: 40937.006\n",
      "\t[5] recon_loss: 3570.986, pred_loss: 35199.301, total_loss: 38770.287\n",
      "\t[6] recon_loss: 2820.287, pred_loss: 34440.237, total_loss: 37260.525\n",
      "\t[7] recon_loss: 2295.021, pred_loss: 33983.415, total_loss: 36278.435\n",
      "\t[8] recon_loss: 1884.871, pred_loss: 33640.652, total_loss: 35525.523\n",
      "\t[9] recon_loss: 1596.623, pred_loss: 33369.110, total_loss: 34965.733\n",
      "\t[10] recon_loss: 1424.306, pred_loss: 33123.364, total_loss: 34547.670\n",
      "\t[11] recon_loss: 1330.901, pred_loss: 32895.858, total_loss: 34226.758\n",
      "\t[12] recon_loss: 1292.292, pred_loss: 32741.704, total_loss: 34033.996\n",
      "\t[13] recon_loss: 1251.099, pred_loss: 32536.196, total_loss: 33787.295\n"
     ]
    },
    {
     "name": "stdout",
     "output_type": "stream",
     "text": [
      "\t[14] recon_loss: 1229.982, pred_loss: 32368.523, total_loss: 33598.505\n",
      "\t[15] recon_loss: 1223.410, pred_loss: 32235.319, total_loss: 33458.729\n",
      "\t[16] recon_loss: 1233.465, pred_loss: 32045.407, total_loss: 33278.872\n",
      "\t[17] recon_loss: 1235.767, pred_loss: 31918.920, total_loss: 33154.687\n",
      "Start prediction\n",
      "\tUsing model 1 to predict\n",
      "\tUsing model 2 to predict\n",
      "\tUsing model 3 to predict\n",
      "\tUsing model 4 to predict\n",
      "\tUsing model 5 to predict\n"
     ]
    }
   ],
   "source": [
    "from sklearn.model_selection import KFold\n",
    "kf = KFold(n_splits=5, shuffle=True, random_state=0)\n",
    "kf.get_n_splits(raw_shared_gene)\n",
    "torch.manual_seed(10)\n",
    "idx = 1\n",
    "for train_ind, test_ind in kf.split(raw_shared_gene):    \n",
    "    print(\"\\n===== Fold %d =====\\nNumber of train genes: %d, Number of test genes: %d\"%(idx, len(train_ind), len(test_ind)))\n",
    "    train_gene = raw_shared_gene[train_ind]\n",
    "    test_gene  = raw_shared_gene[test_ind]\n",
    "    test_spatial_df = raw_spatial_df[test_gene]\n",
    "    spatial_df = raw_spatial_df[train_gene]\n",
    "    scrna_df   = raw_scrna_df\n",
    "    \n",
    "    if idx == 1:\n",
    "        all_pred_res = pd.DataFrame(np.zeros((spatial_df.shape[0],raw_shared_gene.shape[0])), columns=raw_shared_gene) \n",
    "    save_path_prefix = './model/stPlus-demo-fold%d'%(idx)\n",
    "    stPlus_res = stPlus(spatial_df, scrna_df, test_gene, save_path_prefix)\n",
    "    all_pred_res[stPlus_res.columns.values] = stPlus_res\n",
    "    idx += 1"
   ]
  },
  {
   "cell_type": "code",
   "execution_count": 5,
   "metadata": {
    "ExecuteTime": {
     "end_time": "2020-11-29T05:44:58.781645Z",
     "start_time": "2020-11-29T05:44:58.091987Z"
    }
   },
   "outputs": [
    {
     "name": "stdout",
     "output_type": "stream",
     "text": [
      "0.2275347768890717\n",
      "0.21000466117482736\n"
     ]
    }
   ],
   "source": [
    "corr_res = calc_corr(raw_spatial_df, all_pred_res, raw_shared_gene)\n",
    "print(np.mean(corr_res))\n",
    "print(np.median(corr_res))"
   ]
  },
  {
   "cell_type": "markdown",
   "metadata": {},
   "source": [
    "This demo notebook is conducted on a GeForce GTX 1080 GPU.\n",
    "\n",
    "We note that the results may be slightly different on other GPUs even with the same version of all Python packages.\n",
    "\n",
    "For example, the results obtained on a GeForce GTX 1080 Ti GPU are:\n",
    "\n",
    "mean: 0.2275347768890717, median: 0.21000466117482736"
   ]
  },
  {
   "cell_type": "code",
   "execution_count": null,
   "metadata": {
    "ExecuteTime": {
     "end_time": "2020-11-27T13:22:11.344371Z",
     "start_time": "2020-11-27T13:21:18.589Z"
    }
   },
   "outputs": [],
   "source": [
    "# the results should be\n",
    "# mean: 0.2269573212116094\n",
    "# median: 0.20835767062356317"
   ]
  },
  {
   "cell_type": "code",
   "execution_count": null,
   "metadata": {},
   "outputs": [],
   "source": []
  },
  {
   "cell_type": "code",
   "execution_count": null,
   "metadata": {},
   "outputs": [],
   "source": []
  },
  {
   "cell_type": "code",
   "execution_count": null,
   "metadata": {},
   "outputs": [],
   "source": []
  },
  {
   "cell_type": "code",
   "execution_count": null,
   "metadata": {},
   "outputs": [],
   "source": []
  }
 ],
 "metadata": {
  "kernelspec": {
   "display_name": "pyro",
   "language": "python",
   "name": "pyro"
  },
  "language_info": {
   "codemirror_mode": {
    "name": "ipython",
    "version": 3
   },
   "file_extension": ".py",
   "mimetype": "text/x-python",
   "name": "python",
   "nbconvert_exporter": "python",
   "pygments_lexer": "ipython3",
   "version": "3.8.5"
  },
  "toc": {
   "base_numbering": 1,
   "nav_menu": {},
   "number_sections": true,
   "sideBar": true,
   "skip_h1_title": false,
   "title_cell": "Table of Contents",
   "title_sidebar": "Contents",
   "toc_cell": false,
   "toc_position": {
    "height": "calc(100% - 180px)",
    "left": "10px",
    "top": "150px",
    "width": "294px"
   },
   "toc_section_display": true,
   "toc_window_display": true
  }
 },
 "nbformat": 4,
 "nbformat_minor": 2
}
