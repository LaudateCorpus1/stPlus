{
 "cells": [
  {
   "cell_type": "markdown",
   "metadata": {},
   "source": [
    "# stPlus"
   ]
  },
  {
   "cell_type": "markdown",
   "metadata": {},
   "source": [
    "stPlus is a reference-based method for the enhancement of spatial transcriptomics. Leveraging the holistic information in reference scRNA-seq data but not limited to the genes shared with spatial data, stPlus performs non-linear embedding for cells in both datasets and effectively predicts unmeasured spatial gene expression."
   ]
  },
  {
   "cell_type": "markdown",
   "metadata": {},
   "source": [
    "The **required inputs** of stPlus including\n",
    "\n",
    "* **spatial_df**:       normalized and logarithmized original spatial data\n",
    "* **scrna_df**:         normalized and logarithmized reference scRNA-seq data\n",
    "* **genes_to_predict**: spatial genes to be predicted\n",
    "\n",
    "The **output** of stPlus is\n",
    "\n",
    "* **stPlus_res**:       predicted spatial transcriptomics data"
   ]
  },
  {
   "cell_type": "code",
   "execution_count": null,
   "metadata": {},
   "outputs": [],
   "source": []
  },
  {
   "cell_type": "markdown",
   "metadata": {},
   "source": [
    "Import the package of stPlus\n",
    "\n",
    "The frequently used packages such as pandas (pd), numpy (np) and torch will be automatically imported along with stPlus."
   ]
  },
  {
   "cell_type": "code",
   "execution_count": 1,
   "metadata": {
    "ExecuteTime": {
     "end_time": "2020-11-29T09:27:59.711886Z",
     "start_time": "2020-11-29T09:27:57.413982Z"
    }
   },
   "outputs": [],
   "source": [
    "from stPlus import *"
   ]
  },
  {
   "cell_type": "markdown",
   "metadata": {
    "ExecuteTime": {
     "end_time": "2020-11-29T05:22:32.435015Z",
     "start_time": "2020-11-29T05:22:32.429792Z"
    }
   },
   "source": [
    "Check the fundamentals of stPlus via"
   ]
  },
  {
   "cell_type": "code",
   "execution_count": 2,
   "metadata": {
    "ExecuteTime": {
     "end_time": "2020-11-29T09:27:59.716630Z",
     "start_time": "2020-11-29T09:27:59.713688Z"
    }
   },
   "outputs": [
    {
     "name": "stdout",
     "output_type": "stream",
     "text": [
      "Help on function stPlus in module stPlus.model:\n",
      "\n",
      "stPlus(spatial_df, scrna_df, genes_to_predict, save_path_prefix='./stPlus', top_k=3000, t_min=5, data_quality=None, random_seed=None, verbose=True, converge_ratio=0.004, max_epoch_num=10000, batch_size=512, learning_rate=None, weight_decay=0.0002)\n",
      "    spatial_df:       [pandas dataframe] normalized and logarithmized original spatial data (cell by gene)\n",
      "    scrna_df:         [pandas dataframe] normalized and logarithmized reference scRNA-seq data (cell by gene)\n",
      "    genes_to_predict: [1D numpy array] spatial genes to be predicted\n",
      "    save_path_prefix: [str] prefix of path of trained t models with minimal loss\n",
      "    top_k:            [int] number of highly variable genes to use\n",
      "    t_min:            [int] number of epochs with minimal loss using to ensemble learning\n",
      "    data_quality:     [float] user-specified or 1 minus the sparsity of scRNA-seq data (default)\n",
      "    random_seed:      [int] random seed in torch\n",
      "    verbose:          [bool] display the running progress or not\n",
      "    converge_ratio:   [float] loss converge ratio\n",
      "    max_epoch_num:    [int] maximum number of epochs\n",
      "    batch_size:       [int] batch size for model training\n",
      "    learning_rate:    [float] learning rate for model training\n",
      "    weight_decay:     [float] weight decay for model training\n",
      "    stPlus_res:       [pandas dataframe] predicted spatial data (cell by gene)\n",
      "\n"
     ]
    }
   ],
   "source": [
    "help(stPlus)"
   ]
  },
  {
   "cell_type": "code",
   "execution_count": null,
   "metadata": {},
   "outputs": [],
   "source": []
  },
  {
   "cell_type": "code",
   "execution_count": null,
   "metadata": {},
   "outputs": [],
   "source": []
  },
  {
   "cell_type": "code",
   "execution_count": null,
   "metadata": {},
   "outputs": [],
   "source": []
  },
  {
   "cell_type": "markdown",
   "metadata": {},
   "source": [
    "# Getting Started stPlus Application"
   ]
  },
  {
   "cell_type": "markdown",
   "metadata": {},
   "source": [
    "Load the normalized and logarithmized spatial and scRNA-seq data, and the genes to predict\n",
    "\n",
    "The data can be accessed via\n",
    "\n",
    "```\n",
    "git clone git://github.com/xy-chen16/stPlus.git\n",
    "cd stPlus\n",
    "tar -zxvf data.tar.gz\n",
    "```"
   ]
  },
  {
   "cell_type": "code",
   "execution_count": 3,
   "metadata": {
    "ExecuteTime": {
     "end_time": "2020-11-29T09:28:02.103519Z",
     "start_time": "2020-11-29T09:28:02.100308Z"
    }
   },
   "outputs": [],
   "source": [
    "spatial_df_file = './data/osmFISH_df.csv'\n",
    "scrna_df_file   = './data/Zeisel_df.csv'\n",
    "genes_file      = './data/genes_to_predict.txt'"
   ]
  },
  {
   "cell_type": "code",
   "execution_count": 4,
   "metadata": {
    "ExecuteTime": {
     "end_time": "2020-11-29T09:28:35.663293Z",
     "start_time": "2020-11-29T09:28:19.886327Z"
    }
   },
   "outputs": [],
   "source": [
    "spatial_df = pd.read_csv(spatial_df_file)\n",
    "scrna_df   = pd.read_csv(scrna_df_file)\n",
    "genes_to_predict = pd.read_csv(genes_file, header=None).iloc[:,0].values"
   ]
  },
  {
   "cell_type": "code",
   "execution_count": 5,
   "metadata": {
    "ExecuteTime": {
     "end_time": "2020-11-29T09:28:35.697269Z",
     "start_time": "2020-11-29T09:28:35.665085Z"
    }
   },
   "outputs": [
    {
     "data": {
      "text/html": [
       "<div>\n",
       "<style scoped>\n",
       "    .dataframe tbody tr th:only-of-type {\n",
       "        vertical-align: middle;\n",
       "    }\n",
       "\n",
       "    .dataframe tbody tr th {\n",
       "        vertical-align: top;\n",
       "    }\n",
       "\n",
       "    .dataframe thead th {\n",
       "        text-align: right;\n",
       "    }\n",
       "</style>\n",
       "<table border=\"1\" class=\"dataframe\">\n",
       "  <thead>\n",
       "    <tr style=\"text-align: right;\">\n",
       "      <th></th>\n",
       "      <th>Gad2</th>\n",
       "      <th>Slc32a1</th>\n",
       "      <th>Crhbp</th>\n",
       "      <th>Cnr1</th>\n",
       "      <th>Vip</th>\n",
       "      <th>Cpne5</th>\n",
       "      <th>Pthlh</th>\n",
       "      <th>Crh</th>\n",
       "      <th>Tbr1</th>\n",
       "      <th>Lamp5</th>\n",
       "      <th>...</th>\n",
       "      <th>Ctps</th>\n",
       "      <th>Anln</th>\n",
       "      <th>Mrc1</th>\n",
       "      <th>Hexb</th>\n",
       "      <th>Ttr</th>\n",
       "      <th>Foxj1</th>\n",
       "      <th>Vtn</th>\n",
       "      <th>Flt1</th>\n",
       "      <th>Apln</th>\n",
       "      <th>Acta2</th>\n",
       "    </tr>\n",
       "  </thead>\n",
       "  <tbody>\n",
       "    <tr>\n",
       "      <th>0</th>\n",
       "      <td>2.777385</td>\n",
       "      <td>2.926465</td>\n",
       "      <td>0.000000</td>\n",
       "      <td>1.390133</td>\n",
       "      <td>0.829559</td>\n",
       "      <td>2.119032</td>\n",
       "      <td>0.000000</td>\n",
       "      <td>0.621403</td>\n",
       "      <td>2.536136</td>\n",
       "      <td>1.492039</td>\n",
       "      <td>...</td>\n",
       "      <td>2.009762</td>\n",
       "      <td>1.276651</td>\n",
       "      <td>1.001762</td>\n",
       "      <td>2.065889</td>\n",
       "      <td>1.001762</td>\n",
       "      <td>0.829559</td>\n",
       "      <td>0.621403</td>\n",
       "      <td>0.000000</td>\n",
       "      <td>1.001762</td>\n",
       "      <td>0.829559</td>\n",
       "    </tr>\n",
       "    <tr>\n",
       "      <th>1</th>\n",
       "      <td>3.699013</td>\n",
       "      <td>3.059924</td>\n",
       "      <td>1.123004</td>\n",
       "      <td>0.346999</td>\n",
       "      <td>0.604114</td>\n",
       "      <td>0.346999</td>\n",
       "      <td>0.346999</td>\n",
       "      <td>0.808458</td>\n",
       "      <td>1.462912</td>\n",
       "      <td>0.000000</td>\n",
       "      <td>...</td>\n",
       "      <td>1.123004</td>\n",
       "      <td>0.808458</td>\n",
       "      <td>0.346999</td>\n",
       "      <td>0.808458</td>\n",
       "      <td>0.346999</td>\n",
       "      <td>0.346999</td>\n",
       "      <td>0.604114</td>\n",
       "      <td>0.000000</td>\n",
       "      <td>0.978048</td>\n",
       "      <td>0.346999</td>\n",
       "    </tr>\n",
       "    <tr>\n",
       "      <th>2</th>\n",
       "      <td>3.663039</td>\n",
       "      <td>3.480582</td>\n",
       "      <td>2.220487</td>\n",
       "      <td>0.521361</td>\n",
       "      <td>0.862314</td>\n",
       "      <td>0.000000</td>\n",
       "      <td>1.222337</td>\n",
       "      <td>0.521361</td>\n",
       "      <td>2.143296</td>\n",
       "      <td>0.000000</td>\n",
       "      <td>...</td>\n",
       "      <td>0.997242</td>\n",
       "      <td>0.862314</td>\n",
       "      <td>0.706299</td>\n",
       "      <td>2.256957</td>\n",
       "      <td>0.294279</td>\n",
       "      <td>0.862314</td>\n",
       "      <td>0.997242</td>\n",
       "      <td>0.000000</td>\n",
       "      <td>0.521361</td>\n",
       "      <td>0.706299</td>\n",
       "    </tr>\n",
       "    <tr>\n",
       "      <th>3</th>\n",
       "      <td>3.428742</td>\n",
       "      <td>2.682501</td>\n",
       "      <td>0.831733</td>\n",
       "      <td>1.279431</td>\n",
       "      <td>0.499956</td>\n",
       "      <td>0.000000</td>\n",
       "      <td>1.184873</td>\n",
       "      <td>0.000000</td>\n",
       "      <td>3.079924</td>\n",
       "      <td>0.963793</td>\n",
       "      <td>...</td>\n",
       "      <td>1.279431</td>\n",
       "      <td>0.000000</td>\n",
       "      <td>0.963793</td>\n",
       "      <td>1.587579</td>\n",
       "      <td>0.963793</td>\n",
       "      <td>0.280902</td>\n",
       "      <td>0.280902</td>\n",
       "      <td>0.000000</td>\n",
       "      <td>0.280902</td>\n",
       "      <td>0.963793</td>\n",
       "    </tr>\n",
       "    <tr>\n",
       "      <th>4</th>\n",
       "      <td>2.433613</td>\n",
       "      <td>3.250374</td>\n",
       "      <td>0.000000</td>\n",
       "      <td>2.282382</td>\n",
       "      <td>0.955511</td>\n",
       "      <td>0.000000</td>\n",
       "      <td>0.000000</td>\n",
       "      <td>0.000000</td>\n",
       "      <td>1.223775</td>\n",
       "      <td>4.506454</td>\n",
       "      <td>...</td>\n",
       "      <td>1.435085</td>\n",
       "      <td>0.587787</td>\n",
       "      <td>0.955511</td>\n",
       "      <td>1.223775</td>\n",
       "      <td>0.587787</td>\n",
       "      <td>0.587787</td>\n",
       "      <td>0.587787</td>\n",
       "      <td>0.587787</td>\n",
       "      <td>1.223775</td>\n",
       "      <td>0.000000</td>\n",
       "    </tr>\n",
       "  </tbody>\n",
       "</table>\n",
       "<p>5 rows × 33 columns</p>\n",
       "</div>"
      ],
      "text/plain": [
       "       Gad2   Slc32a1     Crhbp      Cnr1       Vip     Cpne5     Pthlh  \\\n",
       "0  2.777385  2.926465  0.000000  1.390133  0.829559  2.119032  0.000000   \n",
       "1  3.699013  3.059924  1.123004  0.346999  0.604114  0.346999  0.346999   \n",
       "2  3.663039  3.480582  2.220487  0.521361  0.862314  0.000000  1.222337   \n",
       "3  3.428742  2.682501  0.831733  1.279431  0.499956  0.000000  1.184873   \n",
       "4  2.433613  3.250374  0.000000  2.282382  0.955511  0.000000  0.000000   \n",
       "\n",
       "        Crh      Tbr1     Lamp5  ...      Ctps      Anln      Mrc1      Hexb  \\\n",
       "0  0.621403  2.536136  1.492039  ...  2.009762  1.276651  1.001762  2.065889   \n",
       "1  0.808458  1.462912  0.000000  ...  1.123004  0.808458  0.346999  0.808458   \n",
       "2  0.521361  2.143296  0.000000  ...  0.997242  0.862314  0.706299  2.256957   \n",
       "3  0.000000  3.079924  0.963793  ...  1.279431  0.000000  0.963793  1.587579   \n",
       "4  0.000000  1.223775  4.506454  ...  1.435085  0.587787  0.955511  1.223775   \n",
       "\n",
       "        Ttr     Foxj1       Vtn      Flt1      Apln     Acta2  \n",
       "0  1.001762  0.829559  0.621403  0.000000  1.001762  0.829559  \n",
       "1  0.346999  0.346999  0.604114  0.000000  0.978048  0.346999  \n",
       "2  0.294279  0.862314  0.997242  0.000000  0.521361  0.706299  \n",
       "3  0.963793  0.280902  0.280902  0.000000  0.280902  0.963793  \n",
       "4  0.587787  0.587787  0.587787  0.587787  1.223775  0.000000  \n",
       "\n",
       "[5 rows x 33 columns]"
      ]
     },
     "execution_count": 5,
     "metadata": {},
     "output_type": "execute_result"
    }
   ],
   "source": [
    "spatial_df.head()"
   ]
  },
  {
   "cell_type": "code",
   "execution_count": 6,
   "metadata": {
    "ExecuteTime": {
     "end_time": "2020-11-29T09:28:35.729791Z",
     "start_time": "2020-11-29T09:28:35.699167Z"
    }
   },
   "outputs": [
    {
     "data": {
      "text/html": [
       "<div>\n",
       "<style scoped>\n",
       "    .dataframe tbody tr th:only-of-type {\n",
       "        vertical-align: middle;\n",
       "    }\n",
       "\n",
       "    .dataframe tbody tr th {\n",
       "        vertical-align: top;\n",
       "    }\n",
       "\n",
       "    .dataframe thead th {\n",
       "        text-align: right;\n",
       "    }\n",
       "</style>\n",
       "<table border=\"1\" class=\"dataframe\">\n",
       "  <thead>\n",
       "    <tr style=\"text-align: right;\">\n",
       "      <th></th>\n",
       "      <th>Tspan12</th>\n",
       "      <th>Tshz1</th>\n",
       "      <th>Fnbp1l</th>\n",
       "      <th>Adamts15</th>\n",
       "      <th>Cldn12</th>\n",
       "      <th>Rxfp1</th>\n",
       "      <th>2310042E22Rik</th>\n",
       "      <th>Sema3c</th>\n",
       "      <th>Jam2</th>\n",
       "      <th>Apbb1ip</th>\n",
       "      <th>...</th>\n",
       "      <th>Rab9</th>\n",
       "      <th>Tceanc</th>\n",
       "      <th>Msl3</th>\n",
       "      <th>Arhgap6</th>\n",
       "      <th>Mid1</th>\n",
       "      <th>Vamp7</th>\n",
       "      <th>Tmlhe</th>\n",
       "      <th>Zf12</th>\n",
       "      <th>Kdm5d</th>\n",
       "      <th>Uty</th>\n",
       "    </tr>\n",
       "  </thead>\n",
       "  <tbody>\n",
       "    <tr>\n",
       "      <th>0</th>\n",
       "      <td>0.000000</td>\n",
       "      <td>4.942366</td>\n",
       "      <td>4.942366</td>\n",
       "      <td>0.0</td>\n",
       "      <td>3.857929</td>\n",
       "      <td>0.0</td>\n",
       "      <td>0.000000</td>\n",
       "      <td>6.236445</td>\n",
       "      <td>3.857929</td>\n",
       "      <td>0.0</td>\n",
       "      <td>...</td>\n",
       "      <td>5.785577</td>\n",
       "      <td>0.0</td>\n",
       "      <td>0.000000</td>\n",
       "      <td>0.0</td>\n",
       "      <td>0.0</td>\n",
       "      <td>5.450333</td>\n",
       "      <td>0.0</td>\n",
       "      <td>0.0</td>\n",
       "      <td>0.0</td>\n",
       "      <td>0.000000</td>\n",
       "    </tr>\n",
       "    <tr>\n",
       "      <th>1</th>\n",
       "      <td>0.000000</td>\n",
       "      <td>3.850649</td>\n",
       "      <td>3.850649</td>\n",
       "      <td>0.0</td>\n",
       "      <td>3.850649</td>\n",
       "      <td>0.0</td>\n",
       "      <td>0.000000</td>\n",
       "      <td>0.000000</td>\n",
       "      <td>0.000000</td>\n",
       "      <td>0.0</td>\n",
       "      <td>...</td>\n",
       "      <td>3.850649</td>\n",
       "      <td>0.0</td>\n",
       "      <td>0.000000</td>\n",
       "      <td>0.0</td>\n",
       "      <td>0.0</td>\n",
       "      <td>0.000000</td>\n",
       "      <td>0.0</td>\n",
       "      <td>0.0</td>\n",
       "      <td>0.0</td>\n",
       "      <td>0.000000</td>\n",
       "    </tr>\n",
       "    <tr>\n",
       "      <th>2</th>\n",
       "      <td>0.000000</td>\n",
       "      <td>0.000000</td>\n",
       "      <td>5.251013</td>\n",
       "      <td>0.0</td>\n",
       "      <td>3.485126</td>\n",
       "      <td>0.0</td>\n",
       "      <td>4.162830</td>\n",
       "      <td>6.674137</td>\n",
       "      <td>3.485126</td>\n",
       "      <td>0.0</td>\n",
       "      <td>...</td>\n",
       "      <td>3.485126</td>\n",
       "      <td>0.0</td>\n",
       "      <td>4.162830</td>\n",
       "      <td>0.0</td>\n",
       "      <td>0.0</td>\n",
       "      <td>4.563094</td>\n",
       "      <td>0.0</td>\n",
       "      <td>0.0</td>\n",
       "      <td>0.0</td>\n",
       "      <td>5.404414</td>\n",
       "    </tr>\n",
       "    <tr>\n",
       "      <th>3</th>\n",
       "      <td>4.523832</td>\n",
       "      <td>4.123776</td>\n",
       "      <td>4.808798</td>\n",
       "      <td>0.0</td>\n",
       "      <td>0.000000</td>\n",
       "      <td>0.0</td>\n",
       "      <td>4.523832</td>\n",
       "      <td>3.446682</td>\n",
       "      <td>0.000000</td>\n",
       "      <td>0.0</td>\n",
       "      <td>...</td>\n",
       "      <td>4.523832</td>\n",
       "      <td>0.0</td>\n",
       "      <td>3.446682</td>\n",
       "      <td>0.0</td>\n",
       "      <td>0.0</td>\n",
       "      <td>0.000000</td>\n",
       "      <td>0.0</td>\n",
       "      <td>0.0</td>\n",
       "      <td>0.0</td>\n",
       "      <td>0.000000</td>\n",
       "    </tr>\n",
       "    <tr>\n",
       "      <th>4</th>\n",
       "      <td>0.000000</td>\n",
       "      <td>4.542944</td>\n",
       "      <td>3.860383</td>\n",
       "      <td>0.0</td>\n",
       "      <td>0.000000</td>\n",
       "      <td>0.0</td>\n",
       "      <td>0.000000</td>\n",
       "      <td>6.143832</td>\n",
       "      <td>0.000000</td>\n",
       "      <td>0.0</td>\n",
       "      <td>...</td>\n",
       "      <td>0.000000</td>\n",
       "      <td>0.0</td>\n",
       "      <td>5.230756</td>\n",
       "      <td>0.0</td>\n",
       "      <td>0.0</td>\n",
       "      <td>4.944856</td>\n",
       "      <td>0.0</td>\n",
       "      <td>0.0</td>\n",
       "      <td>0.0</td>\n",
       "      <td>0.000000</td>\n",
       "    </tr>\n",
       "  </tbody>\n",
       "</table>\n",
       "<p>5 rows × 15075 columns</p>\n",
       "</div>"
      ],
      "text/plain": [
       "    Tspan12     Tshz1    Fnbp1l  Adamts15    Cldn12  Rxfp1  2310042E22Rik  \\\n",
       "0  0.000000  4.942366  4.942366       0.0  3.857929    0.0       0.000000   \n",
       "1  0.000000  3.850649  3.850649       0.0  3.850649    0.0       0.000000   \n",
       "2  0.000000  0.000000  5.251013       0.0  3.485126    0.0       4.162830   \n",
       "3  4.523832  4.123776  4.808798       0.0  0.000000    0.0       4.523832   \n",
       "4  0.000000  4.542944  3.860383       0.0  0.000000    0.0       0.000000   \n",
       "\n",
       "     Sema3c      Jam2  Apbb1ip  ...      Rab9  Tceanc      Msl3  Arhgap6  \\\n",
       "0  6.236445  3.857929      0.0  ...  5.785577     0.0  0.000000      0.0   \n",
       "1  0.000000  0.000000      0.0  ...  3.850649     0.0  0.000000      0.0   \n",
       "2  6.674137  3.485126      0.0  ...  3.485126     0.0  4.162830      0.0   \n",
       "3  3.446682  0.000000      0.0  ...  4.523832     0.0  3.446682      0.0   \n",
       "4  6.143832  0.000000      0.0  ...  0.000000     0.0  5.230756      0.0   \n",
       "\n",
       "   Mid1     Vamp7  Tmlhe  Zf12  Kdm5d       Uty  \n",
       "0   0.0  5.450333    0.0   0.0    0.0  0.000000  \n",
       "1   0.0  0.000000    0.0   0.0    0.0  0.000000  \n",
       "2   0.0  4.563094    0.0   0.0    0.0  5.404414  \n",
       "3   0.0  0.000000    0.0   0.0    0.0  0.000000  \n",
       "4   0.0  4.944856    0.0   0.0    0.0  0.000000  \n",
       "\n",
       "[5 rows x 15075 columns]"
      ]
     },
     "execution_count": 6,
     "metadata": {},
     "output_type": "execute_result"
    }
   ],
   "source": [
    "scrna_df.head()"
   ]
  },
  {
   "cell_type": "code",
   "execution_count": 7,
   "metadata": {
    "ExecuteTime": {
     "end_time": "2020-11-29T09:28:35.734333Z",
     "start_time": "2020-11-29T09:28:35.731368Z"
    }
   },
   "outputs": [
    {
     "data": {
      "text/plain": [
       "array(['Tesc', 'Pvrl3', 'Grm2'], dtype=object)"
      ]
     },
     "execution_count": 7,
     "metadata": {},
     "output_type": "execute_result"
    }
   ],
   "source": [
    "genes_to_predict"
   ]
  },
  {
   "cell_type": "markdown",
   "metadata": {},
   "source": [
    "Run stPlus"
   ]
  },
  {
   "cell_type": "code",
   "execution_count": 8,
   "metadata": {
    "ExecuteTime": {
     "end_time": "2020-11-29T09:30:10.617246Z",
     "start_time": "2020-11-29T09:28:41.031573Z"
    }
   },
   "outputs": [
    {
     "name": "stdout",
     "output_type": "stream",
     "text": [
      "Models will be saved in: ./model/stPlus-demo-5min*.pt\n",
      "\n",
      "Spatial transcriptomics data: 3405 cells * 33 genes\n",
      "Reference scRNA-seq data:     1691 cells * 15075 genes\n",
      "3 genes to be predicted\n",
      "\n",
      "Start initialization\n",
      "Start embedding\n",
      "\t[1] recon_loss: 15260.905, pred_loss: 84649.188, total_loss: 99910.093\n",
      "\t[2] recon_loss: 9475.398, pred_loss: 51617.205, total_loss: 61092.603\n",
      "\t[3] recon_loss: 7647.690, pred_loss: 46626.822, total_loss: 54274.512\n",
      "\t[4] recon_loss: 6398.403, pred_loss: 44095.514, total_loss: 50493.917\n",
      "\t[5] recon_loss: 5177.927, pred_loss: 42897.739, total_loss: 48075.666\n",
      "\t[6] recon_loss: 4231.157, pred_loss: 41949.444, total_loss: 46180.600\n",
      "\t[7] recon_loss: 3502.348, pred_loss: 41292.738, total_loss: 44795.086\n",
      "\t[8] recon_loss: 3011.403, pred_loss: 40858.082, total_loss: 43869.486\n",
      "\t[9] recon_loss: 2633.043, pred_loss: 40477.712, total_loss: 43110.755\n",
      "\t[10] recon_loss: 2335.652, pred_loss: 40156.559, total_loss: 42492.210\n",
      "\t[11] recon_loss: 2149.345, pred_loss: 39855.450, total_loss: 42004.794\n",
      "\t[12] recon_loss: 2043.028, pred_loss: 39600.064, total_loss: 41643.092\n",
      "\t[13] recon_loss: 1985.286, pred_loss: 39317.179, total_loss: 41302.465\n",
      "\t[14] recon_loss: 1947.352, pred_loss: 39065.196, total_loss: 41012.548\n",
      "\t[15] recon_loss: 1927.651, pred_loss: 38816.613, total_loss: 40744.264\n",
      "\t[16] recon_loss: 1905.628, pred_loss: 38576.860, total_loss: 40482.488\n",
      "\t[17] recon_loss: 1896.351, pred_loss: 38395.024, total_loss: 40291.375\n",
      "\t[18] recon_loss: 1906.706, pred_loss: 38176.144, total_loss: 40082.851\n",
      "\t[19] recon_loss: 1940.542, pred_loss: 37964.882, total_loss: 39905.423\n",
      "\t[20] recon_loss: 1906.774, pred_loss: 37705.964, total_loss: 39612.738\n",
      "\t[21] recon_loss: 1893.235, pred_loss: 37532.280, total_loss: 39425.514\n",
      "\t[22] recon_loss: 1884.266, pred_loss: 37299.315, total_loss: 39183.581\n",
      "\t[23] recon_loss: 1885.284, pred_loss: 37097.158, total_loss: 38982.443\n",
      "\t[24] recon_loss: 1888.690, pred_loss: 36855.977, total_loss: 38744.667\n",
      "\t[25] recon_loss: 1880.026, pred_loss: 36679.271, total_loss: 38559.298\n",
      "\t[26] recon_loss: 1882.700, pred_loss: 36474.190, total_loss: 38356.890\n",
      "\t[27] recon_loss: 1879.574, pred_loss: 36268.989, total_loss: 38148.563\n",
      "\t[28] recon_loss: 1874.900, pred_loss: 36052.850, total_loss: 37927.750\n",
      "\t[29] recon_loss: 1888.499, pred_loss: 35798.785, total_loss: 37687.284\n",
      "\t[30] recon_loss: 1884.556, pred_loss: 35592.973, total_loss: 37477.529\n",
      "\t[31] recon_loss: 1883.606, pred_loss: 35392.011, total_loss: 37275.616\n",
      "\t[32] recon_loss: 1881.148, pred_loss: 35222.944, total_loss: 37104.093\n",
      "\t[33] recon_loss: 1876.865, pred_loss: 35012.367, total_loss: 36889.232\n",
      "\t[34] recon_loss: 1886.988, pred_loss: 34820.524, total_loss: 36707.513\n",
      "\t[35] recon_loss: 1882.240, pred_loss: 34590.489, total_loss: 36472.728\n",
      "\t[36] recon_loss: 1898.165, pred_loss: 34420.197, total_loss: 36318.363\n",
      "\t[37] recon_loss: 1915.067, pred_loss: 34298.962, total_loss: 36214.028\n",
      "Start prediction\n",
      "\tUsing model 1 to predict\n",
      "\tUsing model 2 to predict\n",
      "\tUsing model 3 to predict\n",
      "\tUsing model 4 to predict\n",
      "\tUsing model 5 to predict\n"
     ]
    }
   ],
   "source": [
    "save_path_prefix = './model/stPlus-demo'\n",
    "stPlus_res = stPlus(spatial_df, scrna_df, genes_to_predict, save_path_prefix, random_seed=10)"
   ]
  },
  {
   "cell_type": "markdown",
   "metadata": {},
   "source": [
    "Obtain the following predicted spatial transcriptomics data"
   ]
  },
  {
   "cell_type": "code",
   "execution_count": 9,
   "metadata": {
    "ExecuteTime": {
     "end_time": "2020-11-29T09:30:10.630566Z",
     "start_time": "2020-11-29T09:30:10.619844Z"
    }
   },
   "outputs": [
    {
     "data": {
      "text/html": [
       "<div>\n",
       "<style scoped>\n",
       "    .dataframe tbody tr th:only-of-type {\n",
       "        vertical-align: middle;\n",
       "    }\n",
       "\n",
       "    .dataframe tbody tr th {\n",
       "        vertical-align: top;\n",
       "    }\n",
       "\n",
       "    .dataframe thead th {\n",
       "        text-align: right;\n",
       "    }\n",
       "</style>\n",
       "<table border=\"1\" class=\"dataframe\">\n",
       "  <thead>\n",
       "    <tr style=\"text-align: right;\">\n",
       "      <th></th>\n",
       "      <th>Tesc</th>\n",
       "      <th>Pvrl3</th>\n",
       "      <th>Grm2</th>\n",
       "    </tr>\n",
       "  </thead>\n",
       "  <tbody>\n",
       "    <tr>\n",
       "      <th>0</th>\n",
       "      <td>1.668627</td>\n",
       "      <td>2.048264</td>\n",
       "      <td>0.627106</td>\n",
       "    </tr>\n",
       "    <tr>\n",
       "      <th>1</th>\n",
       "      <td>0.720087</td>\n",
       "      <td>2.617475</td>\n",
       "      <td>0.284386</td>\n",
       "    </tr>\n",
       "    <tr>\n",
       "      <th>2</th>\n",
       "      <td>0.932298</td>\n",
       "      <td>2.547904</td>\n",
       "      <td>0.466870</td>\n",
       "    </tr>\n",
       "    <tr>\n",
       "      <th>3</th>\n",
       "      <td>0.990825</td>\n",
       "      <td>1.857638</td>\n",
       "      <td>0.963752</td>\n",
       "    </tr>\n",
       "    <tr>\n",
       "      <th>4</th>\n",
       "      <td>0.091311</td>\n",
       "      <td>2.091799</td>\n",
       "      <td>0.089835</td>\n",
       "    </tr>\n",
       "  </tbody>\n",
       "</table>\n",
       "</div>"
      ],
      "text/plain": [
       "       Tesc     Pvrl3      Grm2\n",
       "0  1.668627  2.048264  0.627106\n",
       "1  0.720087  2.617475  0.284386\n",
       "2  0.932298  2.547904  0.466870\n",
       "3  0.990825  1.857638  0.963752\n",
       "4  0.091311  2.091799  0.089835"
      ]
     },
     "execution_count": 9,
     "metadata": {},
     "output_type": "execute_result"
    }
   ],
   "source": [
    "stPlus_res.head()"
   ]
  },
  {
   "cell_type": "code",
   "execution_count": null,
   "metadata": {},
   "outputs": [],
   "source": []
  },
  {
   "cell_type": "code",
   "execution_count": null,
   "metadata": {},
   "outputs": [],
   "source": []
  },
  {
   "cell_type": "code",
   "execution_count": null,
   "metadata": {},
   "outputs": [],
   "source": []
  },
  {
   "cell_type": "markdown",
   "metadata": {},
   "source": [
    "# Reproduction of 5-fold cross validation"
   ]
  },
  {
   "cell_type": "markdown",
   "metadata": {},
   "source": [
    "Load data"
   ]
  },
  {
   "cell_type": "code",
   "execution_count": 10,
   "metadata": {
    "ExecuteTime": {
     "end_time": "2020-11-29T09:31:35.627006Z",
     "start_time": "2020-11-29T09:31:18.837628Z"
    }
   },
   "outputs": [
    {
     "name": "stdout",
     "output_type": "stream",
     "text": [
      "(3405, 33) (1691, 15075)\n",
      "(33,)\n"
     ]
    }
   ],
   "source": [
    "spatial_df_file = './data/osmFISH_df.csv'\n",
    "scrna_df_file   = './data/Zeisel_df.csv'\n",
    "raw_spatial_df  = pd.read_csv(spatial_df_file)\n",
    "raw_scrna_df    = pd.read_csv(scrna_df_file)\n",
    "print(raw_spatial_df.shape, raw_scrna_df.shape) # cell by gene\n",
    "raw_shared_gene = np.intersect1d(raw_spatial_df.columns, raw_scrna_df.columns)\n",
    "print(raw_shared_gene.shape)"
   ]
  },
  {
   "cell_type": "code",
   "execution_count": 11,
   "metadata": {
    "ExecuteTime": {
     "end_time": "2020-11-29T09:36:50.870800Z",
     "start_time": "2020-11-29T09:31:46.795991Z"
    },
    "scrolled": false
   },
   "outputs": [
    {
     "name": "stdout",
     "output_type": "stream",
     "text": [
      "\n",
      "===== Fold 1 =====\n",
      "Number of train genes: 26, Number of test genes: 7\n",
      "Models will be saved in: ./model/stPlus-demo-fold1-5min*.pt\n",
      "\n",
      "Spatial transcriptomics data: 3405 cells * 26 genes\n",
      "Reference scRNA-seq data:     1691 cells * 15075 genes\n",
      "7 genes to be predicted\n",
      "\n",
      "Start initialization\n",
      "Start embedding\n",
      "\t[1] recon_loss: 11178.695, pred_loss: 69912.709, total_loss: 81091.403\n",
      "\t[2] recon_loss: 6938.868, pred_loss: 43341.697, total_loss: 50280.564\n",
      "\t[3] recon_loss: 5382.792, pred_loss: 38929.662, total_loss: 44312.454\n",
      "\t[4] recon_loss: 4354.111, pred_loss: 36393.928, total_loss: 40748.039\n",
      "\t[5] recon_loss: 3473.185, pred_loss: 35038.585, total_loss: 38511.770\n",
      "\t[6] recon_loss: 2835.064, pred_loss: 34179.996, total_loss: 37015.060\n",
      "\t[7] recon_loss: 2350.828, pred_loss: 33587.845, total_loss: 35938.673\n",
      "\t[8] recon_loss: 1937.088, pred_loss: 33177.183, total_loss: 35114.271\n",
      "\t[9] recon_loss: 1554.804, pred_loss: 32796.420, total_loss: 34351.225\n",
      "\t[10] recon_loss: 1332.759, pred_loss: 32492.870, total_loss: 33825.629\n",
      "\t[11] recon_loss: 1209.808, pred_loss: 32268.683, total_loss: 33478.492\n",
      "\t[12] recon_loss: 1156.819, pred_loss: 32040.272, total_loss: 33197.091\n",
      "\t[13] recon_loss: 1122.960, pred_loss: 31830.765, total_loss: 32953.725\n",
      "\t[14] recon_loss: 1105.629, pred_loss: 31653.235, total_loss: 32758.864\n",
      "\t[15] recon_loss: 1103.545, pred_loss: 31422.612, total_loss: 32526.157\n",
      "\t[16] recon_loss: 1104.002, pred_loss: 31227.559, total_loss: 32331.561\n",
      "\t[17] recon_loss: 1097.173, pred_loss: 31088.989, total_loss: 32186.163\n",
      "\t[18] recon_loss: 1091.123, pred_loss: 30939.897, total_loss: 32031.020\n",
      "\t[19] recon_loss: 1115.257, pred_loss: 30783.459, total_loss: 31898.716\n",
      "\t[20] recon_loss: 1107.547, pred_loss: 30585.523, total_loss: 31693.070\n",
      "\t[21] recon_loss: 1094.731, pred_loss: 30476.465, total_loss: 31571.196\n",
      "Start prediction\n",
      "\tUsing model 1 to predict\n",
      "\tUsing model 2 to predict\n",
      "\tUsing model 3 to predict\n",
      "\tUsing model 4 to predict\n",
      "\tUsing model 5 to predict\n",
      "\n",
      "===== Fold 2 =====\n",
      "Number of train genes: 26, Number of test genes: 7\n",
      "Models will be saved in: ./model/stPlus-demo-fold2-5min*.pt\n",
      "\n",
      "Spatial transcriptomics data: 3405 cells * 26 genes\n",
      "Reference scRNA-seq data:     1691 cells * 15075 genes\n",
      "7 genes to be predicted\n",
      "\n",
      "Start initialization\n",
      "Start embedding\n",
      "\t[1] recon_loss: 11966.074, pred_loss: 67466.379, total_loss: 79432.454\n",
      "\t[2] recon_loss: 7247.023, pred_loss: 42326.934, total_loss: 49573.957\n",
      "\t[3] recon_loss: 5446.136, pred_loss: 38124.678, total_loss: 43570.814\n",
      "\t[4] recon_loss: 4325.618, pred_loss: 35952.878, total_loss: 40278.496\n",
      "\t[5] recon_loss: 3312.395, pred_loss: 34682.762, total_loss: 37995.156\n",
      "\t[6] recon_loss: 2571.087, pred_loss: 33830.462, total_loss: 36401.549\n",
      "\t[7] recon_loss: 1998.261, pred_loss: 33347.549, total_loss: 35345.811\n",
      "\t[8] recon_loss: 1623.269, pred_loss: 33006.948, total_loss: 34630.217\n",
      "\t[9] recon_loss: 1393.592, pred_loss: 32733.145, total_loss: 34126.737\n",
      "\t[10] recon_loss: 1116.001, pred_loss: 32502.990, total_loss: 33618.992\n",
      "\t[11] recon_loss: 956.002, pred_loss: 32262.159, total_loss: 33218.160\n",
      "\t[12] recon_loss: 837.585, pred_loss: 32048.843, total_loss: 32886.427\n",
      "\t[13] recon_loss: 769.317, pred_loss: 31896.252, total_loss: 32665.569\n",
      "\t[14] recon_loss: 743.771, pred_loss: 31713.599, total_loss: 32457.371\n",
      "\t[15] recon_loss: 726.401, pred_loss: 31554.445, total_loss: 32280.846\n",
      "\t[16] recon_loss: 724.078, pred_loss: 31401.265, total_loss: 32125.343\n",
      "\t[17] recon_loss: 716.327, pred_loss: 31247.602, total_loss: 31963.929\n",
      "\t[18] recon_loss: 716.864, pred_loss: 31141.526, total_loss: 31858.391\n",
      "Start prediction\n",
      "\tUsing model 1 to predict\n",
      "\tUsing model 2 to predict\n",
      "\tUsing model 3 to predict\n",
      "\tUsing model 4 to predict\n",
      "\tUsing model 5 to predict\n",
      "\n",
      "===== Fold 3 =====\n",
      "Number of train genes: 26, Number of test genes: 7\n",
      "Models will be saved in: ./model/stPlus-demo-fold3-5min*.pt\n",
      "\n",
      "Spatial transcriptomics data: 3405 cells * 26 genes\n",
      "Reference scRNA-seq data:     1691 cells * 15075 genes\n",
      "7 genes to be predicted\n",
      "\n",
      "Start initialization\n",
      "Start embedding\n",
      "\t[1] recon_loss: 11836.025, pred_loss: 68109.695, total_loss: 79945.718\n",
      "\t[2] recon_loss: 6946.422, pred_loss: 42820.771, total_loss: 49767.193\n",
      "\t[3] recon_loss: 5004.348, pred_loss: 38597.363, total_loss: 43601.711\n",
      "\t[4] recon_loss: 3730.325, pred_loss: 36328.719, total_loss: 40059.044\n",
      "\t[5] recon_loss: 2922.464, pred_loss: 34981.591, total_loss: 37904.055\n",
      "\t[6] recon_loss: 2252.020, pred_loss: 34123.454, total_loss: 36375.474\n",
      "\t[7] recon_loss: 1694.125, pred_loss: 33550.816, total_loss: 35244.942\n",
      "\t[8] recon_loss: 1295.802, pred_loss: 33169.591, total_loss: 34465.393\n",
      "\t[9] recon_loss: 1042.454, pred_loss: 32876.303, total_loss: 33918.756\n",
      "\t[10] recon_loss: 908.454, pred_loss: 32611.706, total_loss: 33520.160\n",
      "\t[11] recon_loss: 835.663, pred_loss: 32375.444, total_loss: 33211.107\n",
      "\t[12] recon_loss: 795.969, pred_loss: 32148.612, total_loss: 32944.581\n",
      "\t[13] recon_loss: 784.673, pred_loss: 31970.951, total_loss: 32755.624\n",
      "\t[14] recon_loss: 809.389, pred_loss: 31796.713, total_loss: 32606.101\n",
      "\t[15] recon_loss: 798.339, pred_loss: 31577.519, total_loss: 32375.858\n",
      "\t[16] recon_loss: 772.425, pred_loss: 31412.500, total_loss: 32184.925\n",
      "\t[17] recon_loss: 779.089, pred_loss: 31270.441, total_loss: 32049.530\n",
      "\t[18] recon_loss: 781.592, pred_loss: 31048.800, total_loss: 31830.392\n",
      "\t[19] recon_loss: 770.126, pred_loss: 30866.072, total_loss: 31636.199\n",
      "\t[20] recon_loss: 760.890, pred_loss: 30741.964, total_loss: 31502.854\n",
      "\t[21] recon_loss: 766.277, pred_loss: 30628.227, total_loss: 31394.504\n",
      "Start prediction\n",
      "\tUsing model 1 to predict\n",
      "\tUsing model 2 to predict\n",
      "\tUsing model 3 to predict\n",
      "\tUsing model 4 to predict\n",
      "\tUsing model 5 to predict\n",
      "\n",
      "===== Fold 4 =====\n",
      "Number of train genes: 27, Number of test genes: 6\n",
      "Models will be saved in: ./model/stPlus-demo-fold4-5min*.pt\n",
      "\n",
      "Spatial transcriptomics data: 3405 cells * 27 genes\n",
      "Reference scRNA-seq data:     1691 cells * 15075 genes\n",
      "6 genes to be predicted\n",
      "\n",
      "Start initialization\n",
      "Start embedding\n",
      "\t[1] recon_loss: 12962.497, pred_loss: 71319.842, total_loss: 84282.339\n",
      "\t[2] recon_loss: 8013.903, pred_loss: 44729.407, total_loss: 52743.309\n",
      "\t[3] recon_loss: 6097.422, pred_loss: 39357.150, total_loss: 45454.572\n",
      "\t[4] recon_loss: 4927.422, pred_loss: 36870.783, total_loss: 41798.205\n",
      "\t[5] recon_loss: 3990.837, pred_loss: 35617.557, total_loss: 39608.394\n",
      "\t[6] recon_loss: 3397.339, pred_loss: 34924.787, total_loss: 38322.126\n",
      "\t[7] recon_loss: 3002.968, pred_loss: 34404.401, total_loss: 37407.368\n",
      "\t[8] recon_loss: 2728.362, pred_loss: 34024.476, total_loss: 36752.839\n",
      "\t[9] recon_loss: 2592.197, pred_loss: 33789.180, total_loss: 36381.378\n",
      "\t[10] recon_loss: 2521.607, pred_loss: 33537.469, total_loss: 36059.077\n",
      "\t[11] recon_loss: 2496.883, pred_loss: 33347.286, total_loss: 35844.168\n",
      "\t[12] recon_loss: 2490.548, pred_loss: 33111.788, total_loss: 35602.337\n",
      "\t[13] recon_loss: 2493.475, pred_loss: 32903.654, total_loss: 35397.129\n",
      "\t[14] recon_loss: 2476.828, pred_loss: 32720.803, total_loss: 35197.631\n",
      "\t[15] recon_loss: 2482.040, pred_loss: 32568.317, total_loss: 35050.356\n",
      "\t[16] recon_loss: 2473.834, pred_loss: 32373.592, total_loss: 34847.426\n",
      "\t[17] recon_loss: 2467.542, pred_loss: 32237.647, total_loss: 34705.189\n",
      "\t[18] recon_loss: 2473.059, pred_loss: 32083.575, total_loss: 34556.635\n",
      "\t[19] recon_loss: 2468.164, pred_loss: 31905.794, total_loss: 34373.958\n",
      "\t[20] recon_loss: 2482.304, pred_loss: 31714.793, total_loss: 34197.097\n",
      "\t[21] recon_loss: 2480.071, pred_loss: 31602.435, total_loss: 34082.507\n",
      "Start prediction\n",
      "\tUsing model 1 to predict\n",
      "\tUsing model 2 to predict\n",
      "\tUsing model 3 to predict\n",
      "\tUsing model 4 to predict\n",
      "\tUsing model 5 to predict\n",
      "\n",
      "===== Fold 5 =====\n",
      "Number of train genes: 27, Number of test genes: 6\n",
      "Models will be saved in: ./model/stPlus-demo-fold5-5min*.pt\n",
      "\n",
      "Spatial transcriptomics data: 3405 cells * 27 genes\n",
      "Reference scRNA-seq data:     1691 cells * 15075 genes\n",
      "6 genes to be predicted\n",
      "\n",
      "Start initialization\n",
      "Start embedding\n",
      "\t[1] recon_loss: 13485.026, pred_loss: 71301.784, total_loss: 84786.811\n",
      "\t[2] recon_loss: 9223.946, pred_loss: 43824.127, total_loss: 53048.073\n",
      "\t[3] recon_loss: 7622.958, pred_loss: 39473.100, total_loss: 47096.057\n",
      "\t[4] recon_loss: 6677.644, pred_loss: 37047.649, total_loss: 43725.294\n",
      "\t[5] recon_loss: 5851.610, pred_loss: 35713.397, total_loss: 41565.007\n"
     ]
    },
    {
     "name": "stdout",
     "output_type": "stream",
     "text": [
      "\t[6] recon_loss: 4994.750, pred_loss: 34898.472, total_loss: 39893.222\n",
      "\t[7] recon_loss: 4360.762, pred_loss: 34344.013, total_loss: 38704.775\n",
      "\t[8] recon_loss: 3907.691, pred_loss: 33956.611, total_loss: 37864.302\n",
      "\t[9] recon_loss: 3613.018, pred_loss: 33646.026, total_loss: 37259.043\n",
      "\t[10] recon_loss: 3375.909, pred_loss: 33437.704, total_loss: 36813.613\n",
      "\t[11] recon_loss: 3133.867, pred_loss: 33228.272, total_loss: 36362.138\n",
      "\t[12] recon_loss: 3018.531, pred_loss: 33024.705, total_loss: 36043.236\n",
      "\t[13] recon_loss: 2949.428, pred_loss: 32852.134, total_loss: 35801.562\n",
      "\t[14] recon_loss: 2913.348, pred_loss: 32657.254, total_loss: 35570.601\n",
      "\t[15] recon_loss: 2878.601, pred_loss: 32508.848, total_loss: 35387.448\n",
      "\t[16] recon_loss: 2868.747, pred_loss: 32349.233, total_loss: 35217.979\n",
      "\t[17] recon_loss: 2857.406, pred_loss: 32187.900, total_loss: 35045.307\n",
      "\t[18] recon_loss: 2861.625, pred_loss: 32069.794, total_loss: 34931.420\n",
      "Start prediction\n",
      "\tUsing model 1 to predict\n",
      "\tUsing model 2 to predict\n",
      "\tUsing model 3 to predict\n",
      "\tUsing model 4 to predict\n",
      "\tUsing model 5 to predict\n"
     ]
    }
   ],
   "source": [
    "from sklearn.model_selection import KFold\n",
    "kf = KFold(n_splits=5, shuffle=True, random_state=0)\n",
    "kf.get_n_splits(raw_shared_gene)\n",
    "torch.manual_seed(10)\n",
    "idx = 1\n",
    "for train_ind, test_ind in kf.split(raw_shared_gene):    \n",
    "    print(\"\\n===== Fold %d =====\\nNumber of train genes: %d, Number of test genes: %d\"%(idx, len(train_ind), len(test_ind)))\n",
    "    train_gene = raw_shared_gene[train_ind]\n",
    "    test_gene  = raw_shared_gene[test_ind]\n",
    "    test_spatial_df = raw_spatial_df[test_gene]\n",
    "    spatial_df = raw_spatial_df[train_gene]\n",
    "    scrna_df   = raw_scrna_df\n",
    "    \n",
    "    if idx == 1:\n",
    "        all_pred_res = pd.DataFrame(np.zeros((spatial_df.shape[0],raw_shared_gene.shape[0])), columns=raw_shared_gene) \n",
    "    save_path_prefix = './model/stPlus-demo-fold%d'%(idx)\n",
    "    stPlus_res = stPlus(spatial_df, scrna_df, test_gene, save_path_prefix)\n",
    "    all_pred_res[stPlus_res.columns.values] = stPlus_res\n",
    "    idx += 1"
   ]
  },
  {
   "cell_type": "code",
   "execution_count": 12,
   "metadata": {
    "ExecuteTime": {
     "end_time": "2020-11-29T09:36:50.943068Z",
     "start_time": "2020-11-29T09:36:50.873462Z"
    }
   },
   "outputs": [
    {
     "name": "stdout",
     "output_type": "stream",
     "text": [
      "0.2269573212116094\n",
      "0.20835767062356317\n"
     ]
    }
   ],
   "source": [
    "corr_res = calc_corr(raw_spatial_df, all_pred_res, raw_shared_gene)\n",
    "print(np.mean(corr_res))\n",
    "print(np.median(corr_res))"
   ]
  },
  {
   "cell_type": "markdown",
   "metadata": {},
   "source": [
    "This demo notebook is conducted on a GeForce GTX 1080 GPU.\n",
    "\n",
    "We note that the results may be slightly different on other GPUs even with the same version of all Python packages.\n",
    "\n",
    "For example, the results obtained on a GeForce GTX 1080 Ti GPU are:\n",
    "\n",
    "```\n",
    "mean: 0.2275347768890717\n",
    "median: 0.21000466117482736\n",
    "```"
   ]
  },
  {
   "cell_type": "code",
   "execution_count": null,
   "metadata": {},
   "outputs": [],
   "source": []
  },
  {
   "cell_type": "code",
   "execution_count": null,
   "metadata": {},
   "outputs": [],
   "source": []
  },
  {
   "cell_type": "code",
   "execution_count": null,
   "metadata": {},
   "outputs": [],
   "source": []
  }
 ],
 "metadata": {
  "kernelspec": {
   "display_name": "pyro",
   "language": "python",
   "name": "pyro"
  },
  "language_info": {
   "codemirror_mode": {
    "name": "ipython",
    "version": 3
   },
   "file_extension": ".py",
   "mimetype": "text/x-python",
   "name": "python",
   "nbconvert_exporter": "python",
   "pygments_lexer": "ipython3",
   "version": "3.8.5"
  },
  "toc": {
   "base_numbering": 1,
   "nav_menu": {},
   "number_sections": true,
   "sideBar": true,
   "skip_h1_title": false,
   "title_cell": "Table of Contents",
   "title_sidebar": "Contents",
   "toc_cell": false,
   "toc_position": {
    "height": "calc(100% - 180px)",
    "left": "10px",
    "top": "150px",
    "width": "294px"
   },
   "toc_section_display": true,
   "toc_window_display": true
  }
 },
 "nbformat": 4,
 "nbformat_minor": 2
}
